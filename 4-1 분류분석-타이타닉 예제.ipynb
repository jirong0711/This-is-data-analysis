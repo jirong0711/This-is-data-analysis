{
 "cells": [
  {
   "cell_type": "code",
   "execution_count": 80,
   "metadata": {},
   "outputs": [
    {
     "data": {
      "text/html": [
       "<div>\n",
       "<style scoped>\n",
       "    .dataframe tbody tr th:only-of-type {\n",
       "        vertical-align: middle;\n",
       "    }\n",
       "\n",
       "    .dataframe tbody tr th {\n",
       "        vertical-align: top;\n",
       "    }\n",
       "\n",
       "    .dataframe thead th {\n",
       "        text-align: right;\n",
       "    }\n",
       "</style>\n",
       "<table border=\"1\" class=\"dataframe\">\n",
       "  <thead>\n",
       "    <tr style=\"text-align: right;\">\n",
       "      <th></th>\n",
       "      <th>pclass</th>\n",
       "      <th>survived</th>\n",
       "      <th>name</th>\n",
       "      <th>sex</th>\n",
       "      <th>age</th>\n",
       "      <th>sibsp</th>\n",
       "      <th>parch</th>\n",
       "      <th>ticket</th>\n",
       "      <th>fare</th>\n",
       "      <th>cabin</th>\n",
       "      <th>embarked</th>\n",
       "      <th>body</th>\n",
       "      <th>home.dest</th>\n",
       "    </tr>\n",
       "  </thead>\n",
       "  <tbody>\n",
       "    <tr>\n",
       "      <th>0</th>\n",
       "      <td>2</td>\n",
       "      <td>1</td>\n",
       "      <td>Mellinger, Miss. Madeleine Violet</td>\n",
       "      <td>female</td>\n",
       "      <td>13.0</td>\n",
       "      <td>0</td>\n",
       "      <td>1</td>\n",
       "      <td>250644</td>\n",
       "      <td>19.5000</td>\n",
       "      <td>NaN</td>\n",
       "      <td>S</td>\n",
       "      <td>NaN</td>\n",
       "      <td>England / Bennington, VT</td>\n",
       "    </tr>\n",
       "    <tr>\n",
       "      <th>1</th>\n",
       "      <td>2</td>\n",
       "      <td>1</td>\n",
       "      <td>Wells, Miss. Joan</td>\n",
       "      <td>female</td>\n",
       "      <td>4.0</td>\n",
       "      <td>1</td>\n",
       "      <td>1</td>\n",
       "      <td>29103</td>\n",
       "      <td>23.0000</td>\n",
       "      <td>NaN</td>\n",
       "      <td>S</td>\n",
       "      <td>NaN</td>\n",
       "      <td>Cornwall / Akron, OH</td>\n",
       "    </tr>\n",
       "    <tr>\n",
       "      <th>2</th>\n",
       "      <td>2</td>\n",
       "      <td>1</td>\n",
       "      <td>Duran y More, Miss. Florentina</td>\n",
       "      <td>female</td>\n",
       "      <td>30.0</td>\n",
       "      <td>1</td>\n",
       "      <td>0</td>\n",
       "      <td>SC/PARIS 2148</td>\n",
       "      <td>13.8583</td>\n",
       "      <td>NaN</td>\n",
       "      <td>C</td>\n",
       "      <td>NaN</td>\n",
       "      <td>Barcelona, Spain / Havana, Cuba</td>\n",
       "    </tr>\n",
       "    <tr>\n",
       "      <th>3</th>\n",
       "      <td>3</td>\n",
       "      <td>0</td>\n",
       "      <td>Scanlan, Mr. James</td>\n",
       "      <td>male</td>\n",
       "      <td>NaN</td>\n",
       "      <td>0</td>\n",
       "      <td>0</td>\n",
       "      <td>36209</td>\n",
       "      <td>7.7250</td>\n",
       "      <td>NaN</td>\n",
       "      <td>Q</td>\n",
       "      <td>NaN</td>\n",
       "      <td>NaN</td>\n",
       "    </tr>\n",
       "    <tr>\n",
       "      <th>4</th>\n",
       "      <td>3</td>\n",
       "      <td>1</td>\n",
       "      <td>Bradley, Miss. Bridget Delia</td>\n",
       "      <td>female</td>\n",
       "      <td>22.0</td>\n",
       "      <td>0</td>\n",
       "      <td>0</td>\n",
       "      <td>334914</td>\n",
       "      <td>7.7250</td>\n",
       "      <td>NaN</td>\n",
       "      <td>Q</td>\n",
       "      <td>NaN</td>\n",
       "      <td>Kingwilliamstown, Co Cork, Ireland Glens Falls...</td>\n",
       "    </tr>\n",
       "  </tbody>\n",
       "</table>\n",
       "</div>"
      ],
      "text/plain": [
       "   pclass  survived                               name     sex   age  sibsp  \\\n",
       "0       2         1  Mellinger, Miss. Madeleine Violet  female  13.0      0   \n",
       "1       2         1                  Wells, Miss. Joan  female   4.0      1   \n",
       "2       2         1     Duran y More, Miss. Florentina  female  30.0      1   \n",
       "3       3         0                 Scanlan, Mr. James    male   NaN      0   \n",
       "4       3         1       Bradley, Miss. Bridget Delia  female  22.0      0   \n",
       "\n",
       "   parch         ticket     fare cabin embarked  body  \\\n",
       "0      1         250644  19.5000   NaN        S   NaN   \n",
       "1      1          29103  23.0000   NaN        S   NaN   \n",
       "2      0  SC/PARIS 2148  13.8583   NaN        C   NaN   \n",
       "3      0          36209   7.7250   NaN        Q   NaN   \n",
       "4      0         334914   7.7250   NaN        Q   NaN   \n",
       "\n",
       "                                           home.dest  \n",
       "0                           England / Bennington, VT  \n",
       "1                               Cornwall / Akron, OH  \n",
       "2                    Barcelona, Spain / Havana, Cuba  \n",
       "3                                                NaN  \n",
       "4  Kingwilliamstown, Co Cork, Ireland Glens Falls...  "
      ]
     },
     "execution_count": 80,
     "metadata": {},
     "output_type": "execute_result"
    }
   ],
   "source": [
    "%matplotlib inline\n",
    "import pandas as pd\n",
    "import numpy as np\n",
    "import matplotlib.pyplot as plt\n",
    "import seaborn as sns\n",
    "\n",
    "df_train = pd.read_csv(\"../data/titanic_train.csv\")\n",
    "df_test = pd.read_csv(\"../data/titanic_test.csv\")\n",
    "df_train.head(5)"
   ]
  },
  {
   "cell_type": "code",
   "execution_count": 2,
   "metadata": {},
   "outputs": [
    {
     "name": "stdout",
     "output_type": "stream",
     "text": [
      "<class 'pandas.core.frame.DataFrame'>\n",
      "RangeIndex: 916 entries, 0 to 915\n",
      "Data columns (total 13 columns):\n",
      " #   Column     Non-Null Count  Dtype  \n",
      "---  ------     --------------  -----  \n",
      " 0   pclass     916 non-null    int64  \n",
      " 1   survived   916 non-null    int64  \n",
      " 2   name       916 non-null    object \n",
      " 3   sex        916 non-null    object \n",
      " 4   age        741 non-null    float64\n",
      " 5   sibsp      916 non-null    int64  \n",
      " 6   parch      916 non-null    int64  \n",
      " 7   ticket     916 non-null    object \n",
      " 8   fare       916 non-null    float64\n",
      " 9   cabin      214 non-null    object \n",
      " 10  embarked   914 non-null    object \n",
      " 11  body       85 non-null     float64\n",
      " 12  home.dest  527 non-null    object \n",
      "dtypes: float64(3), int64(4), object(6)\n",
      "memory usage: 93.2+ KB\n",
      "None\n",
      "------------------------\n",
      "<class 'pandas.core.frame.DataFrame'>\n",
      "RangeIndex: 393 entries, 0 to 392\n",
      "Data columns (total 13 columns):\n",
      " #   Column     Non-Null Count  Dtype  \n",
      "---  ------     --------------  -----  \n",
      " 0   pclass     393 non-null    int64  \n",
      " 1   survived   393 non-null    int64  \n",
      " 2   name       393 non-null    object \n",
      " 3   sex        393 non-null    object \n",
      " 4   age        305 non-null    float64\n",
      " 5   sibsp      393 non-null    int64  \n",
      " 6   parch      393 non-null    int64  \n",
      " 7   ticket     393 non-null    object \n",
      " 8   fare       393 non-null    float64\n",
      " 9   cabin      81 non-null     object \n",
      " 10  embarked   393 non-null    object \n",
      " 11  body       36 non-null     float64\n",
      " 12  home.dest  218 non-null    object \n",
      "dtypes: float64(3), int64(4), object(6)\n",
      "memory usage: 40.0+ KB\n",
      "None\n"
     ]
    }
   ],
   "source": [
    "print(df_train.info())\n",
    "print(\"------------------------\")\n",
    "print(df_test.info())"
   ]
  },
  {
   "cell_type": "code",
   "execution_count": 4,
   "metadata": {},
   "outputs": [],
   "source": [
    "#age,cabin,body,home.dest에 결측치 있는걸 알 수 있음\n",
    "#name,ticket/(분석 당장 x)/ body,home.dest가/ (리얼 의미 x) 의미없는 변수일거라고 판단해서 지워버리기"
   ]
  },
  {
   "cell_type": "code",
   "execution_count": 81,
   "metadata": {},
   "outputs": [],
   "source": [
    "df_train = df_train.drop([\"name\",\"ticket\",\"cabin\",\"body\",\"home.dest\"],axis=1)\n",
    "df_test = df_test.drop([\"name\",\"ticket\",\"body\",\"cabin\",\"home.dest\"],axis=1)"
   ]
  },
  {
   "cell_type": "code",
   "execution_count": 8,
   "metadata": {},
   "outputs": [
    {
     "name": "stdout",
     "output_type": "stream",
     "text": [
      "0    563\n",
      "1    353\n",
      "Name: survived, dtype: int64\n"
     ]
    },
    {
     "data": {
      "text/plain": [
       "<matplotlib.axes._subplots.AxesSubplot at 0x252f1137e88>"
      ]
     },
     "execution_count": 8,
     "metadata": {},
     "output_type": "execute_result"
    },
    {
     "data": {
      "image/png": "[encoded data removed]",
      "text/plain": [
       "<Figure size 432x288 with 1 Axes>"
      ]
     },
     "metadata": {
      "needs_background": "light"
     },
     "output_type": "display_data"
    }
   ],
   "source": [
    "print(df_train[\"survived\"].value_counts())\n",
    "df_train[\"survived\"].value_counts().plot.bar()"
   ]
  },
  {
   "cell_type": "code",
   "execution_count": 9,
   "metadata": {},
   "outputs": [
    {
     "name": "stdout",
     "output_type": "stream",
     "text": [
      "0    563\n",
      "1    353\n",
      "Name: survived, dtype: int64\n"
     ]
    },
    {
     "data": {
      "image/png": "[encoded data removed]",
      "text/plain": [
       "<Figure size 432x288 with 1 Axes>"
      ]
     },
     "metadata": {
      "needs_background": "light"
     },
     "output_type": "display_data"
    }
   ],
   "source": [
    "#각피처에 대한 탐색진행-우선 가장 영향력 있을거 같은 pclass\n",
    "print(df_train[\"survived\"].value_counts())\n",
    "ax = sns.countplot(x=\"pclass\",hue=\"survived\",data=df_train)"
   ]
  },
  {
   "cell_type": "code",
   "execution_count": 19,
   "metadata": {},
   "outputs": [],
   "source": [
    "#수치형 피처들에 대한 탐석 \n",
    "#두 그룹간의 분표 피교, 표준편차. t-test.shapiro-wilk test\n",
    "\n",
    "from scipy import stats\n",
    "import warnings\n",
    "warnings.filterwarnings(\"ignore\")"
   ]
  },
  {
   "cell_type": "code",
   "execution_count": 23,
   "metadata": {},
   "outputs": [],
   "source": [
    "def valid_features(df, col_name, distribution_check=True):\n",
    "    \n",
    "    # 두 집단 (survived=1, survived=0)의 분포 그래프를 출력\n",
    "    g = sns.FacetGrid(df, col='survived')\n",
    "    g.map(plt.hist, col_name, bins=30)\n",
    "\n",
    "    # 두 집단 표준편차 출력\n",
    "    titanic_survived = df[df['survived']==1]\n",
    "    titanic_survived_static = np.array(titanic_survived[col_name])\n",
    "    print(\"data std is\", '%.2f' % np.std(titanic_survived_static))\n",
    "    titanic_n_survived = df[df['survived']==0]\n",
    "    titanic_n_survived_static = np.array(titanic_n_survived[col_name])\n",
    "    print(\"data std is\", '%.2f' % np.std(titanic_n_survived_static))\n",
    "    \n",
    "     # T-test로 두 집단의 평균 차이검정\n",
    "    tTestResult = stats.ttest_ind(titanic_survived[col_name], titanic_n_survived[col_name])\n",
    "    tTestResultDiffVar = stats.ttest_ind(titanic_survived[col_name], titanic_n_survived[col_name], equal_var=False)\n",
    "    print(\"The t-statistic and p-value assuming equal variances is %.3f and %.3f.\" % tTestResult)\n",
    "    print(\"The t-statistic and p-value not assuming equal variances is %.3f and %.3f\" % tTestResultDiffVar)\n",
    "    \n",
    "    #Shapiro Wilk: 분포 정규성 검정\n",
    "    if distribution_check:\n",
    "     \n",
    "        print(\"The w-statistic and p-value in Survived %.3f and %.3f\" % stats.shapiro(titanic_survived[col_name]))\n",
    "        print(\"The w-statistic and p-value in Non-Survived %.3f and %.3f\" % stats.shapiro(titanic_n_survived[col_name]))"
   ]
  },
  {
   "cell_type": "code",
   "execution_count": 25,
   "metadata": {},
   "outputs": [
    {
     "name": "stdout",
     "output_type": "stream",
     "text": [
      "data std is 14.22\n",
      "data std is 13.71\n",
      "The t-statistic and p-value assuming equal variances is -0.546 and 0.585.\n",
      "The t-statistic and p-value not assuming equal variances is -0.543 and 0.587\n",
      "The w-statistic and p-value in Survived 0.982 and 0.001\n",
      "The w-statistic and p-value in Non-Survived 0.968 and 0.000\n",
      "data std is 0.64\n",
      "data std is 1.34\n",
      "The t-statistic and p-value assuming equal variances is -2.118 and 0.034.\n",
      "The t-statistic and p-value not assuming equal variances is -2.446 and 0.015\n"
     ]
    },
    {
     "data": {
      "image/png": "[encoded data removed]",
      "text/plain": [
       "<Figure size 432x216 with 2 Axes>"
      ]
     },
     "metadata": {
      "needs_background": "light"
     },
     "output_type": "display_data"
    },
    {
     "data": {
      "image/png": "[encoded data removed]",
      "text/plain": [
       "<Figure size 432x216 with 2 Axes>"
      ]
     },
     "metadata": {
      "needs_background": "light"
     },
     "output_type": "display_data"
    }
   ],
   "source": [
    "#age와 feature 변수 탐색\n",
    "valid_features(df_train[df_train['age'] > 0], \"age\",distribution_check = True)\n",
    "valid_features(df_train, \"sibsp\", distribution_check=False)\n"
   ]
  },
  {
   "cell_type": "code",
   "execution_count": 27,
   "metadata": {},
   "outputs": [],
   "source": [
    "#sibsp는 두 그룹간의 평균차이가 있다는 것을 알 수 있음"
   ]
  },
  {
   "cell_type": "code",
   "execution_count": 32,
   "metadata": {},
   "outputs": [
    {
     "name": "stdout",
     "output_type": "stream",
     "text": [
      "data std is 0.74\n",
      "data std is 0.89\n",
      "The t-statistic and p-value assuming equal variances is 1.865 and 0.063.\n",
      "The t-statistic and p-value not assuming equal variances is 1.942 and 0.052\n",
      "The w-statistic and p-value in Survived 0.630 and 0.000\n",
      "The w-statistic and p-value in Non-Survived 0.421 and 0.000\n",
      "data std is 60.68\n",
      "data std is 33.65\n",
      "The t-statistic and p-value assuming equal variances is 7.523 and 0.000.\n",
      "The t-statistic and p-value not assuming equal variances is 6.657 and 0.000\n",
      "The w-statistic and p-value in Survived 0.660 and 0.000\n",
      "The w-statistic and p-value in Non-Survived 0.520 and 0.000\n"
     ]
    },
    {
     "data": {
      "image/png": "[encoded data removed]",
      "text/plain": [
       "<Figure size 432x216 with 2 Axes>"
      ]
     },
     "metadata": {
      "needs_background": "light"
     },
     "output_type": "display_data"
    },
    {
     "data": {
      "image/png": "[encoded data removed]",
      "text/plain": [
       "<Figure size 432x216 with 2 Axes>"
      ]
     },
     "metadata": {
      "needs_background": "light"
     },
     "output_type": "display_data"
    }
   ],
   "source": [
    "#미니퀴즈 4-1: parch,fare변수 탐색\n",
    "valid_features(df_train,\"parch\",distribution_check=True)\n",
    "valid_features(df_train,\"fare\",distribution_check=True)"
   ]
  },
  {
   "cell_type": "code",
   "execution_count": 45,
   "metadata": {},
   "outputs": [
    {
     "data": {
      "image/png": "[encoded data removed]",
      "text/plain": [
       "<Figure size 432x288 with 1 Axes>"
      ]
     },
     "metadata": {
      "needs_background": "light"
     },
     "output_type": "display_data"
    }
   ],
   "source": [
    "#미니퀴즈 4-1: sex,embarked 변수 탐색\n",
    "ax_sex = sns.countplot(x = \"sex\", hue=\"survived\",data=df_train)\n",
    "#성별별로 차이있음"
   ]
  },
  {
   "cell_type": "code",
   "execution_count": 46,
   "metadata": {},
   "outputs": [
    {
     "data": {
      "image/png": "[encoded data removed]",
      "text/plain": [
       "<Figure size 432x288 with 1 Axes>"
      ]
     },
     "metadata": {
      "needs_background": "light"
     },
     "output_type": "display_data"
    }
   ],
   "source": [
    "ax_embarked = sns.countplot(x = \"embarked\",hue=\"survived\",data=df_train)\n",
    "#배 별로 차이 있음"
   ]
  },
  {
   "cell_type": "code",
   "execution_count": 82,
   "metadata": {},
   "outputs": [],
   "source": [
    "#step2: 생존자 모델 만들기\n",
    " #결측값 전처리 하기 \n",
    "    #age 결측값을 평균값으로 대체하기\n",
    "\n",
    "replace_mean = df_train[df_train[\"age\"] > 0][\"age\"].mean()\n",
    "df_train[\"age\"] = df_train[\"age\"].fillna(replace_mean)\n",
    "df_test[\"age\"] = df_test[\"age\"].fillna(replace_mean)"
   ]
  },
  {
   "cell_type": "code",
   "execution_count": 83,
   "metadata": {},
   "outputs": [],
   "source": [
    "#embark: 2개의 결측값을 최빈값으로 대체\n",
    "embark_mode = df_train[\"embarked\"].value_counts().index[0]\n",
    "df_train[\"embarked\"] = df_train[\"embarked\"].fillna(embark_mode)\n",
    "df_test[\"embarked\"] = df_test[\"embarked\"].fillna(embark_mode)\n"
   ]
  },
  {
   "cell_type": "code",
   "execution_count": 84,
   "metadata": {},
   "outputs": [
    {
     "data": {
      "text/html": [
       "<div>\n",
       "<style scoped>\n",
       "    .dataframe tbody tr th:only-of-type {\n",
       "        vertical-align: middle;\n",
       "    }\n",
       "\n",
       "    .dataframe tbody tr th {\n",
       "        vertical-align: top;\n",
       "    }\n",
       "\n",
       "    .dataframe thead th {\n",
       "        text-align: right;\n",
       "    }\n",
       "</style>\n",
       "<table border=\"1\" class=\"dataframe\">\n",
       "  <thead>\n",
       "    <tr style=\"text-align: right;\">\n",
       "      <th></th>\n",
       "      <th>pclass</th>\n",
       "      <th>survived</th>\n",
       "      <th>age</th>\n",
       "      <th>sibsp</th>\n",
       "      <th>parch</th>\n",
       "      <th>fare</th>\n",
       "      <th>sex_female</th>\n",
       "      <th>sex_male</th>\n",
       "      <th>embarked_C</th>\n",
       "      <th>embarked_Q</th>\n",
       "      <th>embarked_S</th>\n",
       "    </tr>\n",
       "  </thead>\n",
       "  <tbody>\n",
       "    <tr>\n",
       "      <th>0</th>\n",
       "      <td>2</td>\n",
       "      <td>1</td>\n",
       "      <td>13.000000</td>\n",
       "      <td>0</td>\n",
       "      <td>1</td>\n",
       "      <td>19.5000</td>\n",
       "      <td>1</td>\n",
       "      <td>0</td>\n",
       "      <td>0</td>\n",
       "      <td>0</td>\n",
       "      <td>1</td>\n",
       "    </tr>\n",
       "    <tr>\n",
       "      <th>1</th>\n",
       "      <td>2</td>\n",
       "      <td>1</td>\n",
       "      <td>4.000000</td>\n",
       "      <td>1</td>\n",
       "      <td>1</td>\n",
       "      <td>23.0000</td>\n",
       "      <td>1</td>\n",
       "      <td>0</td>\n",
       "      <td>0</td>\n",
       "      <td>0</td>\n",
       "      <td>1</td>\n",
       "    </tr>\n",
       "    <tr>\n",
       "      <th>2</th>\n",
       "      <td>2</td>\n",
       "      <td>1</td>\n",
       "      <td>30.000000</td>\n",
       "      <td>1</td>\n",
       "      <td>0</td>\n",
       "      <td>13.8583</td>\n",
       "      <td>1</td>\n",
       "      <td>0</td>\n",
       "      <td>1</td>\n",
       "      <td>0</td>\n",
       "      <td>0</td>\n",
       "    </tr>\n",
       "    <tr>\n",
       "      <th>3</th>\n",
       "      <td>3</td>\n",
       "      <td>0</td>\n",
       "      <td>30.231444</td>\n",
       "      <td>0</td>\n",
       "      <td>0</td>\n",
       "      <td>7.7250</td>\n",
       "      <td>0</td>\n",
       "      <td>1</td>\n",
       "      <td>0</td>\n",
       "      <td>1</td>\n",
       "      <td>0</td>\n",
       "    </tr>\n",
       "    <tr>\n",
       "      <th>4</th>\n",
       "      <td>3</td>\n",
       "      <td>1</td>\n",
       "      <td>22.000000</td>\n",
       "      <td>0</td>\n",
       "      <td>0</td>\n",
       "      <td>7.7250</td>\n",
       "      <td>1</td>\n",
       "      <td>0</td>\n",
       "      <td>0</td>\n",
       "      <td>1</td>\n",
       "      <td>0</td>\n",
       "    </tr>\n",
       "  </tbody>\n",
       "</table>\n",
       "</div>"
      ],
      "text/plain": [
       "   pclass  survived        age  sibsp  parch     fare  sex_female  sex_male  \\\n",
       "0       2         1  13.000000      0      1  19.5000           1         0   \n",
       "1       2         1   4.000000      1      1  23.0000           1         0   \n",
       "2       2         1  30.000000      1      0  13.8583           1         0   \n",
       "3       3         0  30.231444      0      0   7.7250           0         1   \n",
       "4       3         1  22.000000      0      0   7.7250           1         0   \n",
       "\n",
       "   embarked_C  embarked_Q  embarked_S  \n",
       "0           0           0           1  \n",
       "1           0           0           1  \n",
       "2           1           0           0  \n",
       "3           0           1           0  \n",
       "4           0           1           0  "
      ]
     },
     "execution_count": 84,
     "metadata": {},
     "output_type": "execute_result"
    }
   ],
   "source": [
    "#원-핫 인코딩하기 위해서 통합 df만들기\n",
    "whole_df = df_train.append(df_test)\n",
    "train_idx_num = len(df_train)\n",
    "\n",
    "#pandas에서 원핫인코딩\n",
    "whole_df_encoded = pd.get_dummies(whole_df)\n",
    "df_train = whole_df_encoded[:train_idx_num]\n",
    "df_test = whole_df_encoded[train_idx_num:]\n",
    "\n",
    "df_train.head(5)"
   ]
  },
  {
   "cell_type": "code",
   "execution_count": 85,
   "metadata": {},
   "outputs": [],
   "source": [
    "#sklearn 모듈에서 Logistic Regression 모델로 학습하기\n",
    "from sklearn.linear_model import LogisticRegression\n",
    "from sklearn.metrics import accuracy_score, precision_score, recall_score, f1_score"
   ]
  },
  {
   "cell_type": "code",
   "execution_count": 88,
   "metadata": {},
   "outputs": [],
   "source": [
    "#데이터를 학습 데이터셋, 테스트 데이터셋으로 분리하기\n",
    "x_train , y_train = df_train.loc[:, df_train.columns != \"survived\"].values, df_train[\"survived\"].values\n",
    "x_test, y_test = df_test.loc[:,df_test.columns != \"survived\"].values, df_test[\"survived\"].values\n",
    "\n",
    "#로지스틱 회귀 모델 학습\n",
    "lr = LogisticRegression(random_state=0)\n",
    "lr.fit(x_train,y_train)\n",
    "\n",
    "#학습한 모델의 테스트 데이터셋에 대한 예측 결과\n",
    "y_pred = lr.predict(x_test)\n",
    "y_pred_probability = lr.predict_proba(x_test)[:,1]"
   ]
  },
  {
   "cell_type": "code",
   "execution_count": 90,
   "metadata": {},
   "outputs": [
    {
     "name": "stdout",
     "output_type": "stream",
     "text": [
      "accuracy: 0.80\n",
      "Preicision: 0.76\n",
      "Recall; 0.67 \n",
      "F1:   1\n"
     ]
    }
   ],
   "source": [
    "#테스트 데이터셋 평가하기\n",
    "print(\"accuracy: %.2f\" % accuracy_score(y_test,y_pred))\n",
    "print('Preicision: %.2f' % precision_score(y_test,y_pred))\n",
    "print(\"Recall; %.2f \" % recall_score(y_test,y_pred))\n",
    "print(\"F1: %3.f\" % f1_score(y_test,y_pred) )"
   ]
  },
  {
   "cell_type": "code",
   "execution_count": 91,
   "metadata": {},
   "outputs": [
    {
     "name": "stdout",
     "output_type": "stream",
     "text": [
      "[[214  32]\n",
      " [ 48  99]]\n"
     ]
    }
   ],
   "source": [
    "from sklearn.metrics import confusion_matrix\n",
    "\n",
    "confmat = confusion_matrix(y_true = y_test, y_pred = y_pred)\n",
    "print(confmat)"
   ]
  },
  {
   "cell_type": "code",
   "execution_count": 93,
   "metadata": {},
   "outputs": [
    {
     "name": "stdout",
     "output_type": "stream",
     "text": [
      "AUC :   1\n"
     ]
    }
   ],
   "source": [
    "from sklearn.metrics import roc_curve, roc_auc_score\n",
    "\n",
    "#AUC 계산하여 출력하기\n",
    "false_positive_rate, true_positive_rate, thresholds = roc_curve(y_test, y_pred_probability)\n",
    "roc_auc = roc_auc_score(y_test, y_pred_probability)\n",
    "print(\"AUC : %3.f\" %roc_auc)"
   ]
  },
  {
   "cell_type": "code",
   "execution_count": 94,
   "metadata": {},
   "outputs": [
    {
     "data": {
      "text/plain": [
       "<matplotlib.legend.Legend at 0x252f260d248>"
      ]
     },
     "execution_count": 94,
     "metadata": {},
     "output_type": "execute_result"
    },
    {
     "data": {
      "image/png": "[encoded data removed]",
      "text/plain": [
       "<Figure size 360x288 with 1 Axes>"
      ]
     },
     "metadata": {
      "needs_background": "light"
     },
     "output_type": "display_data"
    }
   ],
   "source": [
    "plt.rcParams['figure.figsize'] = [5, 4]\n",
    "plt.plot(false_positive_rate, true_positive_rate, label='ROC curve (area = %0.3f)' % roc_auc, \n",
    "         color='red', linewidth=4.0)\n",
    "plt.plot([0, 1], [0, 1], 'k--')\n",
    "plt.xlim([0.0, 1.0])\n",
    "plt.ylim([0.0, 1.0])\n",
    "plt.xlabel('False Positive Rate')\n",
    "plt.ylabel('True Positive Rate')\n",
    "plt.title('ROC curve of Logistic regression')\n",
    "plt.legend(loc=\"lower right\")"
   ]
  },
  {
   "cell_type": "code",
   "execution_count": 95,
   "metadata": {},
   "outputs": [
    {
     "name": "stdout",
     "output_type": "stream",
     "text": [
      "accuracy: 0.74\n",
      "Precision : 0.667\n",
      "Recall: 0.626\n",
      "F1:   1\n",
      "AUC :  1\n"
     ]
    }
   ],
   "source": [
    "#의사결정나무 학습하기\n",
    "from sklearn.tree import DecisionTreeClassifier\n",
    "\n",
    "dtc = DecisionTreeClassifier()\n",
    "dtc.fit(x_train,y_train)\n",
    "y_pred = dtc.predict(x_test)\n",
    "y_pred_probability = dtc.predict_proba(x_test)[:,1]\n",
    "\n",
    "#모델 성능 계산해서 출력\n",
    "print(\"accuracy: %.2f\" % accuracy_score(y_test,y_pred))\n",
    "print(\"Precision : %.3f\" % precision_score(y_test,y_pred))\n",
    "print(\"Recall: %.3f\" % recall_score(y_test,y_pred))\n",
    "print(\"F1: %3.f\" % f1_score(y_test,y_pred))\n",
    "\n",
    "#학습한 모델 AUC계산해서 출력\n",
    "false_positive_rate , true_positive_rate,thresholds = roc_curve(y_test,y_pred_probability)\n",
    "roc_auc = roc_auc_score(y_test,y_pred_probability)\n",
    "print(\"AUC :%3.f\" % roc_auc)"
   ]
  },
  {
   "cell_type": "code",
   "execution_count": 96,
   "metadata": {},
   "outputs": [
    {
     "data": {
      "text/plain": [
       "<matplotlib.legend.Legend at 0x252f1acfa48>"
      ]
     },
     "execution_count": 96,
     "metadata": {},
     "output_type": "execute_result"
    },
    {
     "data": {
      "image/png": "[encoded data removed]",
      "text/plain": [
       "<Figure size 360x288 with 1 Axes>"
      ]
     },
     "metadata": {
      "needs_background": "light"
     },
     "output_type": "display_data"
    }
   ],
   "source": [
    "#그래프 출력\n",
    "plt.rcParams['figure.figsize'] = [5, 4]\n",
    "plt.plot(false_positive_rate, true_positive_rate, label='ROC curve (area = %0.3f)' % roc_auc, \n",
    "         color='red', linewidth=4.0)\n",
    "plt.plot([0, 1], [0, 1], 'k--')\n",
    "plt.xlim([0.0, 1.0])\n",
    "plt.ylim([0.0, 1.0])\n",
    "plt.xlabel('False Positive Rate')\n",
    "plt.ylabel('True Positive Rate')\n",
    "plt.title('ROC curve of Logistic regression')\n",
    "plt.legend(loc=\"lower right\")"
   ]
  },
  {
   "cell_type": "code",
   "execution_count": 146,
   "metadata": {},
   "outputs": [],
   "source": [
    "#step3: 모델개선 => 피쳐 엔지니어링 첫걸음!ㅁ!\n",
    "df_train = pd.read_csv(\"../data/titanic_train.csv\")\n",
    "df_test = pd.read_csv(\"../data/titanic_test.csv\")\n",
    "df_train = df_train.drop([\"ticket\",\"body\",\"home.dest\"],axis=1)\n",
    "df_test = df_test.drop([\"ticket\",\"body\",\"home.dest\"],axis=1)"
   ]
  },
  {
   "cell_type": "code",
   "execution_count": 147,
   "metadata": {},
   "outputs": [
    {
     "data": {
      "text/plain": [
       "C23 C25 C27        6\n",
       "B57 B59 B63 B66    5\n",
       "G6                 5\n",
       "F2                 4\n",
       "F33                4\n",
       "C22 C26            4\n",
       "F4                 4\n",
       "C78                4\n",
       "B96 B98            4\n",
       "D                  4\n",
       "Name: cabin, dtype: int64"
      ]
     },
     "execution_count": 147,
     "metadata": {},
     "output_type": "execute_result"
    }
   ],
   "source": [
    "#age의 결측값: 평균값으로 대체하기\n",
    "replace_mean = df_train[df_train[\"age\"] > 0][\"age\"].mean()\n",
    "df_train[\"age\"] = df_train[\"age\"].fillna(replace_mean)\n",
    "df_test[\"age\"] = df_test[\"age\"].fillna(replace_mean)\n",
    "#embark의 결측값: 최빈값으로 대체하기\n",
    "embark_mode = df_train[\"embarked\"].value_counts().index[0]\n",
    "df_train[\"embarked\"] = df_train[\"embarked\"].fillna(embark_mode)\n",
    "df_test[\"embarked\"] = df_test[\"embarked\"].fillna(embark_mode)\n",
    "#원핫코딩위해서 통합 데이터 생성하기\n",
    "whole_df = df_train.append(df_test)\n",
    "train_idx_num = len(df_train)\n",
    "\n",
    "whole_df[\"cabin\"].value_counts()[:10]"
   ]
  },
  {
   "cell_type": "code",
   "execution_count": 148,
   "metadata": {},
   "outputs": [
    {
     "data": {
      "image/png": "[encoded data removed]",
      "text/plain": [
       "<Figure size 360x288 with 1 Axes>"
      ]
     },
     "metadata": {
      "needs_background": "light"
     },
     "output_type": "display_data"
    }
   ],
   "source": [
    "#결측데이터와 데이터수가 매우 적은 G,T는 X로 대체하기\n",
    "    #결측데이터의 경우 X로 대체\n",
    "whole_df[\"cabin\"] = whole_df[\"cabin\"].fillna(\"X\")\n",
    "    #cabin의 알파벳 앞에만 추출하기\n",
    "whole_df[\"cabin\"] = whole_df[\"cabin\"].apply(lambda x: x[0])\n",
    "    #G,T는 X로 대체하기\n",
    "whole_df[\"cabin\"] = whole_df[\"cabin\"].replace({\"G\":\"X\",\"T\":\"X\"})\n",
    "\n",
    "ax = sns.countplot(x=\"cabin\",hue=\"survived\",data=whole_df)\n",
    "plt.show()"
   ]
  },
  {
   "cell_type": "code",
   "execution_count": 149,
   "metadata": {},
   "outputs": [
    {
     "name": "stdout",
     "output_type": "stream",
     "text": [
      "['Miss', 'Mr', 'Master', 'Mrs', 'Dr', 'Mlle', 'Col', 'Rev', 'Ms', 'Mme', 'Sir', 'the Countess', 'Dona', 'Jonkheer', 'Lady', 'Major', 'Don', 'Capt']\n"
     ]
    }
   ],
   "source": [
    "#name피쳐 가공하기\n",
    "    #이름에서 호칭 추출하기\n",
    "name_grade = whole_df['name'].apply(lambda x : x.split(\", \")[1].split(\".\")[0])\n",
    "name_grade = name_grade.unique().tolist()\n",
    "print(name_grade)"
   ]
  },
  {
   "cell_type": "code",
   "execution_count": 150,
   "metadata": {},
   "outputs": [
    {
     "name": "stdout",
     "output_type": "stream",
     "text": [
      "D    758\n",
      "F    263\n",
      "B    201\n",
      "E     61\n",
      "A     24\n",
      "C      2\n",
      "Name: name, dtype: int64\n"
     ]
    }
   ],
   "source": [
    "grade_dict = {'A': ['Rev', 'Col', 'Major', 'Dr', 'Capt', 'Sir'], # 명예직\n",
    "              'B': ['Ms', 'Mme', 'Mrs', 'Dona'], # 여성\n",
    "              'C': ['Jonkheer', 'the Countess'], # 귀족\n",
    "              'D': ['Mr', 'Don'], # 남성\n",
    "              'E': ['Master'], # 젊은남성\n",
    "              'F': ['Miss', 'Mlle', 'Lady']} # 젊은 여성\n",
    "\n",
    "def give_grade(x):\n",
    "    grade = x.split(\", \", 1)[1].split(\".\")[0]\n",
    "    for key, value in grade_dict.items():\n",
    "        for title in value:\n",
    "            if grade == title:\n",
    "                return key\n",
    "    return 'G'\n",
    "    \n",
    "# 위의 함수를 적용하여 name 피처를 새롭게 정의합니다.\n",
    "whole_df['name'] = whole_df['name'].apply(lambda x: give_grade(x))\n",
    "print(whole_df['name'].value_counts())"
   ]
  },
  {
   "cell_type": "code",
   "execution_count": 160,
   "metadata": {},
   "outputs": [
    {
     "data": {
      "image/png": "[encoded data removed]",
      "text/plain": [
       "<Figure size 360x288 with 1 Axes>"
      ]
     },
     "metadata": {
      "needs_background": "light"
     },
     "output_type": "display_data"
    },
    {
     "name": "stdout",
     "output_type": "stream",
     "text": [
      "statistic = 341.971, pvalue = 0.000\n"
     ]
    }
   ],
   "source": [
    "#미니퀴즈 4-2\n",
    "ax = sns.countplot(x=\"name\",hue=\"survived\",data= whole_df)\n",
    "plt.show()\n",
    "#상대적으로 여성이 살아남았음을 볼 수 있음\n",
    "chis = stats.chisquare(whole_df[whole_df['survived']==1]['cabin'].value_counts().sort_index(), \n",
    "                       whole_df[whole_df['survived']==0]['cabin'].value_counts().sort_index())\n",
    "print(\"statistic = %.3f, pvalue = %.3f\" % chis)"
   ]
  },
  {
   "cell_type": "code",
   "execution_count": 163,
   "metadata": {},
   "outputs": [
    {
     "data": {
      "text/html": [
       "<div>\n",
       "<style scoped>\n",
       "    .dataframe tbody tr th:only-of-type {\n",
       "        vertical-align: middle;\n",
       "    }\n",
       "\n",
       "    .dataframe tbody tr th {\n",
       "        vertical-align: top;\n",
       "    }\n",
       "\n",
       "    .dataframe thead th {\n",
       "        text-align: right;\n",
       "    }\n",
       "</style>\n",
       "<table border=\"1\" class=\"dataframe\">\n",
       "  <thead>\n",
       "    <tr style=\"text-align: right;\">\n",
       "      <th></th>\n",
       "      <th>pclass</th>\n",
       "      <th>survived</th>\n",
       "      <th>age</th>\n",
       "      <th>sibsp</th>\n",
       "      <th>parch</th>\n",
       "      <th>fare</th>\n",
       "      <th>name_A</th>\n",
       "      <th>name_B</th>\n",
       "      <th>name_C</th>\n",
       "      <th>name_D</th>\n",
       "      <th>...</th>\n",
       "      <th>cabin_A</th>\n",
       "      <th>cabin_B</th>\n",
       "      <th>cabin_C</th>\n",
       "      <th>cabin_D</th>\n",
       "      <th>cabin_E</th>\n",
       "      <th>cabin_F</th>\n",
       "      <th>cabin_X</th>\n",
       "      <th>embarked_C</th>\n",
       "      <th>embarked_Q</th>\n",
       "      <th>embarked_S</th>\n",
       "    </tr>\n",
       "  </thead>\n",
       "  <tbody>\n",
       "    <tr>\n",
       "      <th>0</th>\n",
       "      <td>2</td>\n",
       "      <td>1</td>\n",
       "      <td>13.000000</td>\n",
       "      <td>0</td>\n",
       "      <td>1</td>\n",
       "      <td>19.5000</td>\n",
       "      <td>0</td>\n",
       "      <td>0</td>\n",
       "      <td>0</td>\n",
       "      <td>0</td>\n",
       "      <td>...</td>\n",
       "      <td>0</td>\n",
       "      <td>0</td>\n",
       "      <td>0</td>\n",
       "      <td>0</td>\n",
       "      <td>0</td>\n",
       "      <td>0</td>\n",
       "      <td>1</td>\n",
       "      <td>0</td>\n",
       "      <td>0</td>\n",
       "      <td>1</td>\n",
       "    </tr>\n",
       "    <tr>\n",
       "      <th>1</th>\n",
       "      <td>2</td>\n",
       "      <td>1</td>\n",
       "      <td>4.000000</td>\n",
       "      <td>1</td>\n",
       "      <td>1</td>\n",
       "      <td>23.0000</td>\n",
       "      <td>0</td>\n",
       "      <td>0</td>\n",
       "      <td>0</td>\n",
       "      <td>0</td>\n",
       "      <td>...</td>\n",
       "      <td>0</td>\n",
       "      <td>0</td>\n",
       "      <td>0</td>\n",
       "      <td>0</td>\n",
       "      <td>0</td>\n",
       "      <td>0</td>\n",
       "      <td>1</td>\n",
       "      <td>0</td>\n",
       "      <td>0</td>\n",
       "      <td>1</td>\n",
       "    </tr>\n",
       "    <tr>\n",
       "      <th>2</th>\n",
       "      <td>2</td>\n",
       "      <td>1</td>\n",
       "      <td>30.000000</td>\n",
       "      <td>1</td>\n",
       "      <td>0</td>\n",
       "      <td>13.8583</td>\n",
       "      <td>0</td>\n",
       "      <td>0</td>\n",
       "      <td>0</td>\n",
       "      <td>0</td>\n",
       "      <td>...</td>\n",
       "      <td>0</td>\n",
       "      <td>0</td>\n",
       "      <td>0</td>\n",
       "      <td>0</td>\n",
       "      <td>0</td>\n",
       "      <td>0</td>\n",
       "      <td>1</td>\n",
       "      <td>1</td>\n",
       "      <td>0</td>\n",
       "      <td>0</td>\n",
       "    </tr>\n",
       "    <tr>\n",
       "      <th>3</th>\n",
       "      <td>3</td>\n",
       "      <td>0</td>\n",
       "      <td>30.231444</td>\n",
       "      <td>0</td>\n",
       "      <td>0</td>\n",
       "      <td>7.7250</td>\n",
       "      <td>0</td>\n",
       "      <td>0</td>\n",
       "      <td>0</td>\n",
       "      <td>1</td>\n",
       "      <td>...</td>\n",
       "      <td>0</td>\n",
       "      <td>0</td>\n",
       "      <td>0</td>\n",
       "      <td>0</td>\n",
       "      <td>0</td>\n",
       "      <td>0</td>\n",
       "      <td>1</td>\n",
       "      <td>0</td>\n",
       "      <td>1</td>\n",
       "      <td>0</td>\n",
       "    </tr>\n",
       "    <tr>\n",
       "      <th>4</th>\n",
       "      <td>3</td>\n",
       "      <td>1</td>\n",
       "      <td>22.000000</td>\n",
       "      <td>0</td>\n",
       "      <td>0</td>\n",
       "      <td>7.7250</td>\n",
       "      <td>0</td>\n",
       "      <td>0</td>\n",
       "      <td>0</td>\n",
       "      <td>0</td>\n",
       "      <td>...</td>\n",
       "      <td>0</td>\n",
       "      <td>0</td>\n",
       "      <td>0</td>\n",
       "      <td>0</td>\n",
       "      <td>0</td>\n",
       "      <td>0</td>\n",
       "      <td>1</td>\n",
       "      <td>0</td>\n",
       "      <td>1</td>\n",
       "      <td>0</td>\n",
       "    </tr>\n",
       "  </tbody>\n",
       "</table>\n",
       "<p>5 rows × 24 columns</p>\n",
       "</div>"
      ],
      "text/plain": [
       "   pclass  survived        age  sibsp  parch     fare  name_A  name_B  name_C  \\\n",
       "0       2         1  13.000000      0      1  19.5000       0       0       0   \n",
       "1       2         1   4.000000      1      1  23.0000       0       0       0   \n",
       "2       2         1  30.000000      1      0  13.8583       0       0       0   \n",
       "3       3         0  30.231444      0      0   7.7250       0       0       0   \n",
       "4       3         1  22.000000      0      0   7.7250       0       0       0   \n",
       "\n",
       "   name_D  ...  cabin_A  cabin_B  cabin_C  cabin_D  cabin_E  cabin_F  cabin_X  \\\n",
       "0       0  ...        0        0        0        0        0        0        1   \n",
       "1       0  ...        0        0        0        0        0        0        1   \n",
       "2       0  ...        0        0        0        0        0        0        1   \n",
       "3       1  ...        0        0        0        0        0        0        1   \n",
       "4       0  ...        0        0        0        0        0        0        1   \n",
       "\n",
       "   embarked_C  embarked_Q  embarked_S  \n",
       "0           0           0           1  \n",
       "1           0           0           1  \n",
       "2           1           0           0  \n",
       "3           0           1           0  \n",
       "4           0           1           0  \n",
       "\n",
       "[5 rows x 24 columns]"
      ]
     },
     "execution_count": 163,
     "metadata": {},
     "output_type": "execute_result"
    }
   ],
   "source": [
    "#원핫인코딩하기\n",
    "whole_df_encoded = pd.get_dummies(whole_df)\n",
    "df_train = whole_df_encoded[:train_idx_num]\n",
    "df_test = whole_df_encoded[train_idx_num:]\n",
    "df_train.head()"
   ]
  },
  {
   "cell_type": "code",
   "execution_count": 165,
   "metadata": {},
   "outputs": [
    {
     "name": "stdout",
     "output_type": "stream",
     "text": [
      "Accuracy: 0.79\n",
      "Precision: 0.74\n",
      "Recall;   1\n",
      "F1:0.718\n",
      "AUC : 0.853\n"
     ]
    },
    {
     "data": {
      "text/plain": [
       "<matplotlib.legend.Legend at 0x252f3d2a648>"
      ]
     },
     "execution_count": 165,
     "metadata": {},
     "output_type": "execute_result"
    },
    {
     "data": {
      "image/png": "[encoded data removed]",
      "text/plain": [
       "<Figure size 360x288 with 1 Axes>"
      ]
     },
     "metadata": {
      "needs_background": "light"
     },
     "output_type": "display_data"
    }
   ],
   "source": [
    "#피쳐 엔지니어링 후 데이터 학습 해보기\n",
    "    #데이터셋 분리\n",
    "x_train, y_train = df_train.loc[:, df_train.columns != 'survived'].values, df_train['survived'].values\n",
    "x_test, y_test = df_test.loc[:, df_test.columns != 'survived'].values, df_test['survived'].values\n",
    "\n",
    "    #로지스틱 회귀모델 학습하기\n",
    "lr = LogisticRegression(random_state=0)\n",
    "lr.fit(x_train,y_train)\n",
    "\n",
    "    #testset예측하기\n",
    "y_pred = lr.predict(x_test)\n",
    "y_pred_probability = lr.predict_proba(x_test)[:,1]\n",
    "\n",
    "    #각각의 평가지표 출력하기\n",
    "print(\"Accuracy: %.2f\" % accuracy_score(y_test,y_pred))\n",
    "print(\"Precision: %.2f\" % precision_score(y_test,y_pred))\n",
    "print(\"Recall; %3.f\" % recall_score(y_test,y_pred))\n",
    "print('F1:%.3f' % f1_score(y_test,y_pred))\n",
    "\n",
    "    # AUC 출력\n",
    "false_positive_rate, true_positive_rate, thresholds = roc_curve(y_test, y_pred_probability)\n",
    "roc_auc = roc_auc_score(y_test, y_pred_probability)\n",
    "print(\"AUC : %.3f\" % roc_auc)\n",
    "\n",
    "    #그래프로 출력\n",
    "plt.rcParams['figure.figsize'] = [5, 4]\n",
    "plt.plot(false_positive_rate, true_positive_rate, label='ROC curve (area = %0.3f)' % roc_auc, \n",
    "         color='red', linewidth=4.0)\n",
    "plt.plot([0, 1], [0, 1], 'k--')\n",
    "plt.xlim([0.0, 1.0])\n",
    "plt.ylim([0.0, 1.0])\n",
    "plt.xlabel('False Positive Rate')\n",
    "plt.ylabel('True Positive Rate')\n",
    "plt.title('ROC curve of Logistic regression')\n",
    "plt.legend(loc=\"lower right\")"
   ]
  },
  {
   "cell_type": "code",
   "execution_count": 166,
   "metadata": {},
   "outputs": [
    {
     "data": {
      "image/png": "[encoded data removed]",
      "text/plain": [
       "<Figure size 360x288 with 1 Axes>"
      ]
     },
     "metadata": {
      "needs_background": "light"
     },
     "output_type": "display_data"
    }
   ],
   "source": [
    "cols = df_train.columns.tolist()\n",
    "cols.remove('survived')\n",
    "y_pos = np.arange(len(cols))\n",
    "\n",
    "plt.rcParams['figure.figsize'] = [5, 4]\n",
    "fig, ax = plt.subplots()\n",
    "ax.barh(y_pos, lr.coef_[0], align='center', color='green', ecolor='black')\n",
    "ax.set_yticks(y_pos)\n",
    "ax.set_yticklabels(cols)\n",
    "ax.invert_yaxis()\n",
    "ax.set_xlabel('Coef')\n",
    "ax.set_title(\"Each Feature's Coef\")\n",
    "\n",
    "plt.show()"
   ]
  },
  {
   "cell_type": "code",
   "execution_count": 177,
   "metadata": {},
   "outputs": [],
   "source": [
    "#step4:모델 검증하기\n",
    "from sklearn.model_selection import KFold\n",
    "\n",
    "# K-fold 교차 검증\n",
    "k = 5\n",
    "cv = KFold(k, shuffle=True, random_state=0)\n",
    "acc_history = []\n",
    "\n",
    "for i, (train_data_row, test_data_row) in enumerate(cv.split(whole_df_encoded)):\n",
    "    df_train = whole_df_encoded.iloc[train_data_row]\n",
    "    df_test = whole_df_encoded.iloc[test_data_row]\n",
    "    \n",
    "    splited_x_train, splited_y_train = df_train.loc[:, df_train.columns != 'survived'].values, df_train['survived'].values\n",
    "    splited_x_test, splited_y_test = df_test.loc[:, df_test.columns != 'survived'].values, df_test['survived'].values\n",
    "    \n",
    "    lr = LogisticRegression(random_state=0)\n",
    "    lr.fit(splited_x_train, splited_y_train)\n",
    "    y_pred = lr.predict(splited_x_test)\n",
    "    y_pred_probability = lr.predict_proba(splited_x_test)[:,1]\n",
    "    \n",
    "    splited_acc = accuracy_score(splited_y_test, y_pred)\n",
    "    acc_history.append(splited_acc)"
   ]
  },
  {
   "cell_type": "code",
   "execution_count": 179,
   "metadata": {},
   "outputs": [
    {
     "data": {
      "text/plain": [
       "[<matplotlib.lines.Line2D at 0x252f3b78708>]"
      ]
     },
     "execution_count": 179,
     "metadata": {},
     "output_type": "execute_result"
    },
    {
     "data": {
      "image/png": "[encoded data removed]",
      "text/plain": [
       "<Figure size 360x288 with 1 Axes>"
      ]
     },
     "metadata": {
      "needs_background": "light"
     },
     "output_type": "display_data"
    }
   ],
   "source": [
    "plt.xlabel(\"Each K-fold\")\n",
    "plt.ylabel(\"AUC of splited test data\")\n",
    "plt.plot(range(1,k+1),acc_history)"
   ]
  },
  {
   "cell_type": "code",
   "execution_count": 180,
   "metadata": {},
   "outputs": [
    {
     "data": {
      "image/png": "[encoded data removed]",
      "text/plain": [
       "<Figure size 360x288 with 1 Axes>"
      ]
     },
     "metadata": {
      "needs_background": "light"
     },
     "output_type": "display_data"
    }
   ],
   "source": [
    "import scikitplot as skplt\n",
    "skplt.estimators.plot_learning_curve(lr, x_train, y_train)\n",
    "plt.show()"
   ]
  },
  {
   "cell_type": "code",
   "execution_count": null,
   "metadata": {},
   "outputs": [],
   "source": [
    "#이뜻은 sample data가 300개 이상되어야 과적합이 나아진다는 의미:)"
   ]
  }
 ],
 "metadata": {
  "kernelspec": {
   "display_name": "Python 3",
   "language": "python",
   "name": "python3"
  },
  "language_info": {
   "codemirror_mode": {
    "name": "ipython",
    "version": 3
   },
   "file_extension": ".py",
   "mimetype": "text/x-python",
   "name": "python",
   "nbconvert_exporter": "python",
   "pygments_lexer": "ipython3",
   "version": "3.7.6"
  }
 },
 "nbformat": 4,
 "nbformat_minor": 4
}
