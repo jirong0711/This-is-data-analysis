{
 "cells": [
  {
   "cell_type": "code",
   "execution_count": 1,
   "metadata": {},
   "outputs": [],
   "source": [
    "#MovieLens 데이터 살펴보기\n",
    "%matplotlib inline\n",
    "import time\n",
    "import operator\n",
    "import pandas as pd\n",
    "import numpy as np\n",
    "import matplotlib.pyplot as plt\n",
    "import seaborn as sns\n",
    "import sys\n",
    "# Data Source: https://grouplens.org/datasets/movielens"
   ]
  },
  {
   "cell_type": "code",
   "execution_count": 2,
   "metadata": {},
   "outputs": [
    {
     "data": {
      "text/html": [
       "<div>\n",
       "<style scoped>\n",
       "    .dataframe tbody tr th:only-of-type {\n",
       "        vertical-align: middle;\n",
       "    }\n",
       "\n",
       "    .dataframe tbody tr th {\n",
       "        vertical-align: top;\n",
       "    }\n",
       "\n",
       "    .dataframe thead th {\n",
       "        text-align: right;\n",
       "    }\n",
       "</style>\n",
       "<table border=\"1\" class=\"dataframe\">\n",
       "  <thead>\n",
       "    <tr style=\"text-align: right;\">\n",
       "      <th></th>\n",
       "      <th>user_id</th>\n",
       "      <th>movie_id</th>\n",
       "      <th>rating</th>\n",
       "      <th>time</th>\n",
       "    </tr>\n",
       "  </thead>\n",
       "  <tbody>\n",
       "    <tr>\n",
       "      <th>0</th>\n",
       "      <td>1</td>\n",
       "      <td>1193</td>\n",
       "      <td>5</td>\n",
       "      <td>978300760</td>\n",
       "    </tr>\n",
       "    <tr>\n",
       "      <th>1</th>\n",
       "      <td>1</td>\n",
       "      <td>661</td>\n",
       "      <td>3</td>\n",
       "      <td>978302109</td>\n",
       "    </tr>\n",
       "    <tr>\n",
       "      <th>2</th>\n",
       "      <td>1</td>\n",
       "      <td>914</td>\n",
       "      <td>3</td>\n",
       "      <td>978301968</td>\n",
       "    </tr>\n",
       "    <tr>\n",
       "      <th>3</th>\n",
       "      <td>1</td>\n",
       "      <td>3408</td>\n",
       "      <td>4</td>\n",
       "      <td>978300275</td>\n",
       "    </tr>\n",
       "    <tr>\n",
       "      <th>4</th>\n",
       "      <td>1</td>\n",
       "      <td>2355</td>\n",
       "      <td>5</td>\n",
       "      <td>978824291</td>\n",
       "    </tr>\n",
       "  </tbody>\n",
       "</table>\n",
       "</div>"
      ],
      "text/plain": [
       "   user_id  movie_id  rating       time\n",
       "0        1      1193       5  978300760\n",
       "1        1       661       3  978302109\n",
       "2        1       914       3  978301968\n",
       "3        1      3408       4  978300275\n",
       "4        1      2355       5  978824291"
      ]
     },
     "execution_count": 2,
     "metadata": {},
     "output_type": "execute_result"
    }
   ],
   "source": [
    "rating_file_path = \"../data/ml-1m/ratings.dat\"\n",
    "movie_file_path = \"../data/ml-1m/movies.dat\"\n",
    "user_file_path = \"../data/ml-1m/users.dat\"\n",
    "\n",
    "rating_data = pd.read_csv(rating_file_path,             # 교재에서는 pd.io.parser.read_csv로 쓰나\n",
    "                         names=['user_id','movie_id','rating','time'], #결과값에는 차이가 없음\n",
    "                         delimiter=\"::\",engine=\"python\")\n",
    "movie_data =  pd.read_csv(movie_file_path,\n",
    "                         names=['movie_id','title','genre'],\n",
    "                          delimiter=\"::\",engine=\"python\")\n",
    "user_data =   pd.read_csv(user_file_path,\n",
    "                         names=['user_id','gender','age',\"occupation\",\"zipcode\"],\n",
    "                          delimiter=\"::\",engine=\"python\")\n",
    "\n",
    "rating_data.head()"
   ]
  },
  {
   "cell_type": "code",
   "execution_count": 16,
   "metadata": {},
   "outputs": [
    {
     "data": {
      "text/html": [
       "<div>\n",
       "<style scoped>\n",
       "    .dataframe tbody tr th:only-of-type {\n",
       "        vertical-align: middle;\n",
       "    }\n",
       "\n",
       "    .dataframe tbody tr th {\n",
       "        vertical-align: top;\n",
       "    }\n",
       "\n",
       "    .dataframe thead th {\n",
       "        text-align: right;\n",
       "    }\n",
       "</style>\n",
       "<table border=\"1\" class=\"dataframe\">\n",
       "  <thead>\n",
       "    <tr style=\"text-align: right;\">\n",
       "      <th></th>\n",
       "      <th>movie_id</th>\n",
       "      <th>title</th>\n",
       "      <th>genre</th>\n",
       "    </tr>\n",
       "  </thead>\n",
       "  <tbody>\n",
       "    <tr>\n",
       "      <th>0</th>\n",
       "      <td>1</td>\n",
       "      <td>Toy Story (1995)</td>\n",
       "      <td>Animation|Children's|Comedy</td>\n",
       "    </tr>\n",
       "    <tr>\n",
       "      <th>1</th>\n",
       "      <td>2</td>\n",
       "      <td>Jumanji (1995)</td>\n",
       "      <td>Adventure|Children's|Fantasy</td>\n",
       "    </tr>\n",
       "    <tr>\n",
       "      <th>2</th>\n",
       "      <td>3</td>\n",
       "      <td>Grumpier Old Men (1995)</td>\n",
       "      <td>Comedy|Romance</td>\n",
       "    </tr>\n",
       "    <tr>\n",
       "      <th>3</th>\n",
       "      <td>4</td>\n",
       "      <td>Waiting to Exhale (1995)</td>\n",
       "      <td>Comedy|Drama</td>\n",
       "    </tr>\n",
       "    <tr>\n",
       "      <th>4</th>\n",
       "      <td>5</td>\n",
       "      <td>Father of the Bride Part II (1995)</td>\n",
       "      <td>Comedy</td>\n",
       "    </tr>\n",
       "  </tbody>\n",
       "</table>\n",
       "</div>"
      ],
      "text/plain": [
       "   movie_id                               title                         genre\n",
       "0         1                    Toy Story (1995)   Animation|Children's|Comedy\n",
       "1         2                      Jumanji (1995)  Adventure|Children's|Fantasy\n",
       "2         3             Grumpier Old Men (1995)                Comedy|Romance\n",
       "3         4            Waiting to Exhale (1995)                  Comedy|Drama\n",
       "4         5  Father of the Bride Part II (1995)                        Comedy"
      ]
     },
     "execution_count": 16,
     "metadata": {},
     "output_type": "execute_result"
    }
   ],
   "source": [
    "movie_data.head()"
   ]
  },
  {
   "cell_type": "code",
   "execution_count": 19,
   "metadata": {},
   "outputs": [
    {
     "data": {
      "text/html": [
       "<div>\n",
       "<style scoped>\n",
       "    .dataframe tbody tr th:only-of-type {\n",
       "        vertical-align: middle;\n",
       "    }\n",
       "\n",
       "    .dataframe tbody tr th {\n",
       "        vertical-align: top;\n",
       "    }\n",
       "\n",
       "    .dataframe thead th {\n",
       "        text-align: right;\n",
       "    }\n",
       "</style>\n",
       "<table border=\"1\" class=\"dataframe\">\n",
       "  <thead>\n",
       "    <tr style=\"text-align: right;\">\n",
       "      <th></th>\n",
       "      <th>user_id</th>\n",
       "      <th>gender</th>\n",
       "      <th>age</th>\n",
       "      <th>occupation</th>\n",
       "      <th>zipcode</th>\n",
       "    </tr>\n",
       "  </thead>\n",
       "  <tbody>\n",
       "    <tr>\n",
       "      <th>0</th>\n",
       "      <td>1</td>\n",
       "      <td>F</td>\n",
       "      <td>1</td>\n",
       "      <td>10</td>\n",
       "      <td>48067</td>\n",
       "    </tr>\n",
       "    <tr>\n",
       "      <th>1</th>\n",
       "      <td>2</td>\n",
       "      <td>M</td>\n",
       "      <td>56</td>\n",
       "      <td>16</td>\n",
       "      <td>70072</td>\n",
       "    </tr>\n",
       "    <tr>\n",
       "      <th>2</th>\n",
       "      <td>3</td>\n",
       "      <td>M</td>\n",
       "      <td>25</td>\n",
       "      <td>15</td>\n",
       "      <td>55117</td>\n",
       "    </tr>\n",
       "    <tr>\n",
       "      <th>3</th>\n",
       "      <td>4</td>\n",
       "      <td>M</td>\n",
       "      <td>45</td>\n",
       "      <td>7</td>\n",
       "      <td>02460</td>\n",
       "    </tr>\n",
       "    <tr>\n",
       "      <th>4</th>\n",
       "      <td>5</td>\n",
       "      <td>M</td>\n",
       "      <td>25</td>\n",
       "      <td>20</td>\n",
       "      <td>55455</td>\n",
       "    </tr>\n",
       "  </tbody>\n",
       "</table>\n",
       "</div>"
      ],
      "text/plain": [
       "   user_id gender  age  occupation zipcode\n",
       "0        1      F    1          10   48067\n",
       "1        2      M   56          16   70072\n",
       "2        3      M   25          15   55117\n",
       "3        4      M   45           7   02460\n",
       "4        5      M   25          20   55455"
      ]
     },
     "execution_count": 19,
     "metadata": {},
     "output_type": "execute_result"
    }
   ],
   "source": [
    "user_data.head()"
   ]
  },
  {
   "cell_type": "code",
   "execution_count": 3,
   "metadata": {},
   "outputs": [
    {
     "name": "stdout",
     "output_type": "stream",
     "text": [
      "total number of move in data: 3883\n"
     ]
    }
   ],
   "source": [
    "#데이터에 대해서 알아봤으니 분석 시작!\n",
    "#step2: 탐색적 데이터 분석하기\n",
    "#영화의 총 갯수 출력\n",
    "print(\"total number of move in data:\",len(movie_data['movie_id'].unique())) #unique쓰면 numpy.array형식 나옴\n",
    "\n",
    "#연도별 영화 개수가 많은 top10의 연도 출력\n",
    "movie_data['year'] = movie_data['title'].apply(lambda x:x[-5:-1]) #문자열 인덱싱, 맨마지막이 -1\n",
    "#인덱싱 하나 뒤까지 번호 써줘야 그전까지 인덱싱"
   ]
  },
  {
   "cell_type": "code",
   "execution_count": 4,
   "metadata": {
    "scrolled": true
   },
   "outputs": [
    {
     "data": {
      "text/plain": [
       "0       1995\n",
       "1       1995\n",
       "2       1995\n",
       "3       1995\n",
       "4       1995\n",
       "        ... \n",
       "3878    2000\n",
       "3879    2000\n",
       "3880    2000\n",
       "3881    2000\n",
       "3882    2000\n",
       "Name: year, Length: 3883, dtype: object"
      ]
     },
     "execution_count": 4,
     "metadata": {},
     "output_type": "execute_result"
    }
   ],
   "source": [
    "movie_data['year']"
   ]
  },
  {
   "cell_type": "code",
   "execution_count": 5,
   "metadata": {},
   "outputs": [
    {
     "name": "stdout",
     "output_type": "stream",
     "text": [
      "total number of move in data: 3883\n"
     ]
    },
    {
     "data": {
      "text/plain": [
       "1996    345\n",
       "1995    342\n",
       "1998    337\n",
       "1997    315\n",
       "1999    283\n",
       "1994    257\n",
       "1993    165\n",
       "2000    156\n",
       "1986    104\n",
       "1992    102\n",
       "Name: year, dtype: int64"
      ]
     },
     "execution_count": 5,
     "metadata": {},
     "output_type": "execute_result"
    }
   ],
   "source": [
    "print(\"total number of move in data:\",len(movie_data['movie_id'].unique())) \n",
    "movie_data['year'].value_counts().head(10)"
   ]
  },
  {
   "cell_type": "code",
   "execution_count": 6,
   "metadata": {},
   "outputs": [],
   "source": [
    "#가장 많이 나오는 genre알아보기\n",
    "#그래서 dictionary에 해당 genre와 count 넣어주기!\n",
    "\n",
    "#중요 어떻게 각 행에서 장르 추출해서 빈도 구하는지!\n",
    "\n",
    "unique_genre_dict = {}\n",
    "for index,row in movie_data.iterrows():\n",
    "    #genre 피처가 \\로 구분되어 있음), \n",
    "    genre_combination = row['genre'] \n",
    "    parsed_genre = genre_combination.split(\"|\") # [\"animation\",\"comdey\"] 리스트 형식으로 나옴\n",
    "    #구분자로 부리한 장르의 속성을 unique_dict에 넣어줘서 계산하기\n",
    "    for genre in parsed_genre :\n",
    "        if genre in unique_genre_dict:\n",
    "            unique_genre_dict[genre] += 1\n",
    "        else :\n",
    "            unique_genre_dict[genre] = 1"
   ]
  },
  {
   "cell_type": "code",
   "execution_count": 45,
   "metadata": {},
   "outputs": [
    {
     "data": {
      "image/png": "[encoded data removed]",
      "text/plain": [
       "<Figure size 1440x1152 with 1 Axes>"
      ]
     },
     "metadata": {
      "needs_background": "light"
     },
     "output_type": "display_data"
    }
   ],
   "source": [
    "#unique_genre_dict 속성 이용해서 그래프 그리기\n",
    "plt.rcParams['figure.figsize'] = [20,16] #화면사이즈 조정해주기\n",
    "sns.barplot(list(unique_genre_dict.keys()),list(unique_genre_dict.values()), alpha=0.8)\n",
    "plt.title(\"Popular genre in movies\")\n",
    "plt.ylabel(\"Count of Genre\",fontsize=12)\n",
    "plt.xlabel(\"Genre\", fontsize=12)\n",
    "plt.show()"
   ]
  },
  {
   "cell_type": "code",
   "execution_count": 7,
   "metadata": {},
   "outputs": [
    {
     "name": "stdout",
     "output_type": "stream",
     "text": [
      "total number of user in data: 6040\n"
     ]
    }
   ],
   "source": [
    "#유저의 정보 알아보기\n",
    "print(\"total number of user in data:\", len(user_data['user_id'].unique()))"
   ]
  },
  {
   "cell_type": "code",
   "execution_count": 8,
   "metadata": {},
   "outputs": [
    {
     "data": {
      "image/png": "[encoded data removed]",
      "text/plain": [
       "<Figure size 576x576 with 1 Axes>"
      ]
     },
     "metadata": {
      "needs_background": "light"
     },
     "output_type": "display_data"
    },
    {
     "name": "stdout",
     "output_type": "stream",
     "text": [
      "total number of movie in data: 3883\n",
      "total number of movie rated below 100: 1687\n"
     ]
    }
   ],
   "source": [
    "movie_rate_count = rating_data.groupby('movie_id')['rating'].count().values #value하면 값이 array로 묶임\n",
    "plt.rcParams['figure.figsize'] =[8,8]\n",
    "fig = plt.hist(movie_rate_count,bins=200)\n",
    "plt.ylabel(\"Count\",fontsize=12)\n",
    "plt.xlabel(\"Movie's rated count\",fontsize=12)\n",
    "plt.show()\n",
    "\n",
    "print(\"total number of movie in data:\", len(movie_data['movie_id'].unique()))\n",
    "print(\"total number of movie rated below 100:\", len(movie_rate_count[movie_rate_count < 100]))"
   ]
  },
  {
   "cell_type": "code",
   "execution_count": 9,
   "metadata": {},
   "outputs": [],
   "source": [
    "#영화의 평균평점 탐색해보기\n",
    "movie_grouped_rating_info = rating_data.groupby('movie_id')['rating'].agg(['mean','count'])\n",
    "movie_grouped_rating_info.columns = [\"rated_mean\",\"rating_count\"]\n",
    "                #agg - > dictionary 형태 에러 나면 일단 기존 함수 써주고 rename 따로 하기\n",
    "                #agg함수 사용법-> 여러 함수 적용하고 싶을때 함수를 \"\"string화 해서 list에 묶어주기"
   ]
  },
  {
   "cell_type": "code",
   "execution_count": 10,
   "metadata": {},
   "outputs": [
    {
     "data": {
      "text/html": [
       "<div>\n",
       "<style scoped>\n",
       "    .dataframe tbody tr th:only-of-type {\n",
       "        vertical-align: middle;\n",
       "    }\n",
       "\n",
       "    .dataframe tbody tr th {\n",
       "        vertical-align: top;\n",
       "    }\n",
       "\n",
       "    .dataframe thead th {\n",
       "        text-align: right;\n",
       "    }\n",
       "</style>\n",
       "<table border=\"1\" class=\"dataframe\">\n",
       "  <thead>\n",
       "    <tr style=\"text-align: right;\">\n",
       "      <th></th>\n",
       "      <th>rated_mean</th>\n",
       "      <th>rating_count</th>\n",
       "    </tr>\n",
       "    <tr>\n",
       "      <th>movie_id</th>\n",
       "      <th></th>\n",
       "      <th></th>\n",
       "    </tr>\n",
       "  </thead>\n",
       "  <tbody>\n",
       "    <tr>\n",
       "      <th>1</th>\n",
       "      <td>4.146846</td>\n",
       "      <td>2077</td>\n",
       "    </tr>\n",
       "    <tr>\n",
       "      <th>2</th>\n",
       "      <td>3.201141</td>\n",
       "      <td>701</td>\n",
       "    </tr>\n",
       "    <tr>\n",
       "      <th>3</th>\n",
       "      <td>3.016736</td>\n",
       "      <td>478</td>\n",
       "    </tr>\n",
       "    <tr>\n",
       "      <th>4</th>\n",
       "      <td>2.729412</td>\n",
       "      <td>170</td>\n",
       "    </tr>\n",
       "    <tr>\n",
       "      <th>5</th>\n",
       "      <td>3.006757</td>\n",
       "      <td>296</td>\n",
       "    </tr>\n",
       "  </tbody>\n",
       "</table>\n",
       "</div>"
      ],
      "text/plain": [
       "          rated_mean  rating_count\n",
       "movie_id                          \n",
       "1           4.146846          2077\n",
       "2           3.201141           701\n",
       "3           3.016736           478\n",
       "4           2.729412           170\n",
       "5           3.006757           296"
      ]
     },
     "execution_count": 10,
     "metadata": {},
     "output_type": "execute_result"
    }
   ],
   "source": [
    "movie_grouped_rating_info.head(5)"
   ]
  },
  {
   "cell_type": "code",
   "execution_count": 11,
   "metadata": {},
   "outputs": [
    {
     "data": {
      "text/plain": [
       "array([[<matplotlib.axes._subplots.AxesSubplot object at 0x0000021995419748>,\n",
       "        <matplotlib.axes._subplots.AxesSubplot object at 0x0000021982E39B88>]],\n",
       "      dtype=object)"
      ]
     },
     "execution_count": 11,
     "metadata": {},
     "output_type": "execute_result"
    },
    {
     "data": {
      "image/png": "[encoded data removed]",
      "text/plain": [
       "<Figure size 576x576 with 2 Axes>"
      ]
     },
     "metadata": {
      "needs_background": "light"
     },
     "output_type": "display_data"
    }
   ],
   "source": [
    "movie_grouped_rating_info.hist(bins=150, grid=False)"
   ]
  },
  {
   "cell_type": "code",
   "execution_count": 44,
   "metadata": {},
   "outputs": [
    {
     "data": {
      "text/plain": [
       "<matplotlib.axes._subplots.AxesSubplot at 0x1fc8bd68348>"
      ]
     },
     "execution_count": 44,
     "metadata": {},
     "output_type": "execute_result"
    },
    {
     "data": {
      "image/png": "[encoded data removed]",
      "text/plain": [
       "<Figure size 576x576 with 1 Axes>"
      ]
     },
     "metadata": {
      "needs_background": "light"
     },
     "output_type": "display_data"
    }
   ],
   "source": [
    "#미니퀴즈 3-5\n",
    "#1 유저별로 평가한 영화갯수\n",
    "\n",
    "rating_user_id = rating_data.groupby(\"user_id\")['movie_id'].count()\n",
    "rating_user_id.hist(bins=200, grid=False)\n"
   ]
  },
  {
   "cell_type": "code",
   "execution_count": 43,
   "metadata": {},
   "outputs": [
    {
     "data": {
      "text/plain": [
       "<matplotlib.axes._subplots.AxesSubplot at 0x1fc8bc6ca08>"
      ]
     },
     "execution_count": 43,
     "metadata": {},
     "output_type": "execute_result"
    },
    {
     "data": {
      "image/png": "[encoded data removed]",
      "text/plain": [
       "<Figure size 576x576 with 1 Axes>"
      ]
     },
     "metadata": {
      "needs_background": "light"
     },
     "output_type": "display_data"
    }
   ],
   "source": [
    "#유저별로 평가한 평균 영화의 점수\n",
    "rating_grade_group = rating_data.groupby(\"user_id\")['rating'].mean()\n",
    "rating_grade_group.hist(bins=200,grid=False)"
   ]
  },
  {
   "cell_type": "code",
   "execution_count": 51,
   "metadata": {},
   "outputs": [
    {
     "data": {
      "text/plain": [
       "<matplotlib.axes._subplots.AxesSubplot at 0x1fc8c03c148>"
      ]
     },
     "execution_count": 51,
     "metadata": {},
     "output_type": "execute_result"
    },
    {
     "data": {
      "image/png": "[encoded data removed]",
      "text/plain": [
       "<Figure size 576x576 with 1 Axes>"
      ]
     },
     "metadata": {
      "needs_background": "light"
     },
     "output_type": "display_data"
    }
   ],
   "source": [
    "#유저별로 평가한 영화 점수의 편차\n",
    "rating_data_variance = rating_data.groupby(\"user_id\")[\"rating\"].std()\n",
    "rating_data_variance.hist(bins=200,grid=False)\n",
    "\n",
    "rating_movie_variance"
   ]
  },
  {
   "cell_type": "code",
   "execution_count": 20,
   "metadata": {},
   "outputs": [
    {
     "data": {
      "image/png": "[encoded data removed]",
      "text/plain": [
       "<Figure size 720x720 with 1 Axes>"
      ]
     },
     "metadata": {
      "needs_background": "light"
     },
     "output_type": "display_data"
    }
   ],
   "source": [
    "rating_data.head() #이런 데이터는 U-I-R(user item rating) 데이터로 행렬로 나타내기 용이함\n",
    "rating_table = rating_data[[\"user_id\",\"movie_id\",\"rating\"]].set_index([\"user_id\",\"movie_id\"]).unstack()\n",
    "                                                            #set_index(a,b)순서대로 데이터 세움\n",
    "plt.rcParams[\"figure.figsize\"] = [10,10]\n",
    "plt.imshow(rating_table) #행렬로 보여주는데 거의 희미해서 행렬 완성기법사용\n",
    "plt.grid(False)\n",
    "plt.xlabel(\"Movie\")\n",
    "plt.ylabel(\"User\")\n",
    "plt.title(\"User-movie Matrix\")\n",
    "plt.show()"
   ]
  },
  {
   "cell_type": "code",
   "execution_count": 21,
   "metadata": {},
   "outputs": [],
   "source": [
    "#행렬 완성 기법 (비어있는 rating채워넣기)"
   ]
  },
  {
   "cell_type": "code",
   "execution_count": 23,
   "metadata": {},
   "outputs": [
    {
     "name": "stdout",
     "output_type": "stream",
     "text": [
      "training time of model: 184.63 seconds\n"
     ]
    }
   ],
   "source": [
    "#평점 예측하기\n",
    "#SVD사용하기\n",
    "from surprise import SVD,Dataset,Reader,accuracy\n",
    "from surprise.model_selection import train_test_split\n",
    "\n",
    "reader = Reader(rating_scale=(1,5))\n",
    "data = Dataset.load_from_df(rating_data[[\"user_id\",\"movie_id\",\"rating\"]],reader)\n",
    "train_data = data.build_full_trainset()\n",
    "\n",
    "train_start = time.time()\n",
    "model = SVD(n_factors = 8,\n",
    "           lr_all = 0.005,\n",
    "           reg_all = 0.02,\n",
    "           n_epochs = 100)\n",
    "model.fit(train_data)\n",
    "train_end = time.time()\n",
    "print(\"training time of model: %.2f seconds\" % (train_end - train_start))"
   ]
  },
  {
   "cell_type": "code",
   "execution_count": 24,
   "metadata": {},
   "outputs": [
    {
     "data": {
      "text/html": [
       "<div>\n",
       "<style scoped>\n",
       "    .dataframe tbody tr th:only-of-type {\n",
       "        vertical-align: middle;\n",
       "    }\n",
       "\n",
       "    .dataframe tbody tr th {\n",
       "        vertical-align: top;\n",
       "    }\n",
       "\n",
       "    .dataframe thead th {\n",
       "        text-align: right;\n",
       "    }\n",
       "</style>\n",
       "<table border=\"1\" class=\"dataframe\">\n",
       "  <thead>\n",
       "    <tr style=\"text-align: right;\">\n",
       "      <th></th>\n",
       "      <th>user_id</th>\n",
       "      <th>movie_id</th>\n",
       "      <th>rating</th>\n",
       "      <th>time</th>\n",
       "    </tr>\n",
       "  </thead>\n",
       "  <tbody>\n",
       "    <tr>\n",
       "      <th>233</th>\n",
       "      <td>4</td>\n",
       "      <td>3468</td>\n",
       "      <td>5</td>\n",
       "      <td>978294008</td>\n",
       "    </tr>\n",
       "    <tr>\n",
       "      <th>234</th>\n",
       "      <td>4</td>\n",
       "      <td>1210</td>\n",
       "      <td>3</td>\n",
       "      <td>978293924</td>\n",
       "    </tr>\n",
       "    <tr>\n",
       "      <th>235</th>\n",
       "      <td>4</td>\n",
       "      <td>2951</td>\n",
       "      <td>4</td>\n",
       "      <td>978294282</td>\n",
       "    </tr>\n",
       "    <tr>\n",
       "      <th>236</th>\n",
       "      <td>4</td>\n",
       "      <td>1214</td>\n",
       "      <td>4</td>\n",
       "      <td>978294260</td>\n",
       "    </tr>\n",
       "    <tr>\n",
       "      <th>237</th>\n",
       "      <td>4</td>\n",
       "      <td>1036</td>\n",
       "      <td>4</td>\n",
       "      <td>978294282</td>\n",
       "    </tr>\n",
       "  </tbody>\n",
       "</table>\n",
       "</div>"
      ],
      "text/plain": [
       "     user_id  movie_id  rating       time\n",
       "233        4      3468       5  978294008\n",
       "234        4      1210       3  978293924\n",
       "235        4      2951       4  978294282\n",
       "236        4      1214       4  978294260\n",
       "237        4      1036       4  978294282"
      ]
     },
     "execution_count": 24,
     "metadata": {},
     "output_type": "execute_result"
    }
   ],
   "source": [
    "#user_id가 4인 유저의 영화 평가하기\n",
    "target_user_id = 4\n",
    "target_user_data =rating_data[rating_data[\"user_id\"] == target_user_id]\n",
    "target_user_data.head(5)"
   ]
  },
  {
   "cell_type": "code",
   "execution_count": 26,
   "metadata": {},
   "outputs": [
    {
     "name": "stdout",
     "output_type": "stream",
     "text": [
      "{3468: 5, 1210: 3, 2951: 4, 1214: 4, 1036: 4, 260: 5, 2028: 5, 480: 4, 1196: 2, 1198: 5, 1954: 5, 1097: 4, 3418: 4, 3702: 4, 2366: 4, 1387: 5, 3527: 1, 1201: 5, 2692: 5, 2947: 5, 1240: 5}\n"
     ]
    }
   ],
   "source": [
    "#user_id가 4인 유저가 평가한 영화의 히스토리 정보 추출하기\n",
    "target_user_movie_rating_dict = {}\n",
    "\n",
    "for index, row in target_user_data.iterrows():  ##이렇게 만드는 방법 알기!!\n",
    "    movie_id = row[\"movie_id\"] #target_user_id.movie_id의 첫번째 row 부터 추출\n",
    "    target_user_movie_rating_dict[movie_id] = row['rating']\n",
    "print(target_user_movie_rating_dict)"
   ]
  },
  {
   "cell_type": "code",
   "execution_count": 29,
   "metadata": {},
   "outputs": [],
   "source": [
    "#타겟 유저가 보지 않은 영하 중 예상 평점이 높은 10개 선정하기\n",
    " #타겟 유저가 보지 않은 영화로 test dataset 만들기\n",
    "test_data = []\n",
    "for index, row in movie_data.iterrows():\n",
    "    movie_id = row[\"movie_id\"]\n",
    "    rating = 0\n",
    "    if movie_id in target_user_movie_rating_dict:\n",
    "        continue\n",
    "    test_data.append((target_user_id, movie_id, rating))\n",
    "    \n",
    " #타겟 유저의 펴점 점수를 예측하기\n",
    "target_user_predictions = model.test(test_data)\n",
    "\n"
   ]
  },
  {
   "cell_type": "code",
   "execution_count": 40,
   "metadata": {},
   "outputs": [
    {
     "data": {
      "text/plain": [
       "[Prediction(uid=4, iid=2, r_ui=0, est=3.1834364321424116, details={'was_impossible': False}),\n",
       " Prediction(uid=4, iid=3, r_ui=0, est=2.8039174184297435, details={'was_impossible': False})]"
      ]
     },
     "execution_count": 40,
     "metadata": {},
     "output_type": "execute_result"
    }
   ],
   "source": [
    "target_user_predictions[1:3]"
   ]
  },
  {
   "cell_type": "code",
   "execution_count": 42,
   "metadata": {},
   "outputs": [],
   "source": [
    "#예측된 점수 중, 타겟 유저의 영화별 점수를 target_user_movie_predict로 지정\n",
    "def get_user_predicted_ratings(predictions, user_id,user_history):\n",
    "    target_user_movie_predict_dict = {}\n",
    "    for uid, mid, rating, predicted_rating, _ in predictions:\n",
    "        if user_id == uid:\n",
    "            if mid not in user_history:  #없는 영화에 한해서\n",
    "                target_user_movie_predict_dict[mid] = predicted_rating\n",
    "    return target_user_movie_predict_dict\n",
    "\n",
    "target_user_movie_predict_dict = get_user_predicted_ratings(predictions=target_user_predictions,\n",
    "                                                           user_id = target_user_id,\n",
    "                                                           user_history = target_user_movie_rating_dict)\n"
   ]
  },
  {
   "cell_type": "code",
   "execution_count": 63,
   "metadata": {},
   "outputs": [],
   "source": [
    "#예측된 영화중 top10의 영화 선정하기\n",
    "target_user_top10_predicted = sorted(target_user_movie_predict_dict.items(),\n",
    "                                     key=operator.itemgetter(1),reverse=True)[:10] #itemgetter1:두번째 값이 모이게\n"
   ]
  },
  {
   "cell_type": "code",
   "execution_count": 67,
   "metadata": {},
   "outputs": [
    {
     "name": "stdout",
     "output_type": "stream",
     "text": [
      "To Live (Huozhe) (1994) : 5\n",
      "Schindler's List (1993) : 5\n",
      "Godfather, The (1972) : 5\n",
      "Casablanca (1942) : 5\n",
      "Sunset Blvd. (a.k.a. Sunset Boulevard) (1950) : 5\n",
      "Citizen Kane (1941) : 5\n",
      "Streetcar Named Desire, A (1951) : 5\n",
      "Lawrence of Arabia (1962) : 5\n",
      "To Kill a Mockingbird (1962) : 5\n",
      "On the Waterfront (1954) : 5\n"
     ]
    }
   ],
   "source": [
    "#타이틀 정보 출력하기 위해 movie_id마다 movie_title을 딕셔너리 형태로 저장하기\n",
    "movie_dict = {}\n",
    "for index,row in movie_data.iterrows():\n",
    "    movie_id = row[\"movie_id\"]\n",
    "    movie_title = row[\"title\"]\n",
    "    movie_dict[movie_id] = movie_title\n",
    "#아까 top10이랑 매핑해서 출력하ㅣㄱ\n",
    "for predicted in target_user_top10_predicted:\n",
    "    movie_id = predicted[0]\n",
    "    predicted_rating = predicted[1]\n",
    "    print(movie_dict[movie_id],\":\",predicted_rating)"
   ]
  },
  {
   "cell_type": "code",
   "execution_count": 69,
   "metadata": {},
   "outputs": [
    {
     "name": "stdout",
     "output_type": "stream",
     "text": [
      "training time of model: 153.48 seconds\n",
      "RMSE of test dataset in SVD model:\n",
      "RMSE: 0.8586\n"
     ]
    },
    {
     "data": {
      "text/plain": [
       "0.858648613091329"
      ]
     },
     "execution_count": 69,
     "metadata": {},
     "output_type": "execute_result"
    }
   ],
   "source": [
    "#step4: 평가=> 예측모델평가하기\n",
    "#과연 이 모델이 예측을 얼마나 잘했을까? => 보편적 방법: RMSE 계산하기\n",
    "\n",
    "reader = Reader(rating_scale=(1,5))\n",
    "data = Dataset.load_from_df(rating_data[[\"user_id\",\"movie_id\",\"rating\"]],reader)\n",
    "train_data, test_data = train_test_split(data,test_size=0.2)\n",
    "\n",
    "#SVD 모델 학습하기\n",
    "train_start = time.time()\n",
    "model = SVD(n_factors = 8,\n",
    "           lr_all = 0.005,\n",
    "           reg_all = 0.02,\n",
    "           n_epochs = 100)\n",
    "model.fit(train_data)\n",
    "train_end = time.time()\n",
    "print(\"training time of model: %.2f seconds\" % (train_end - train_start))\n",
    "\n",
    "predictions = model.test(test_data)\n",
    "\n",
    "#테스터 데이터의 RMSE 출력\n",
    "print(\"RMSE of test dataset in SVD model:\")\n",
    "accuracy.rmse(predictions)"
   ]
  },
  {
   "cell_type": "code",
   "execution_count": null,
   "metadata": {},
   "outputs": [],
   "source": [
    "#미니퀴즈 3-6\n",
    "rmse = []\n",
    "for i in range(1,20):\n",
    "    model = SVD(n_factors = i,\n",
    "           lr_all = 0.005,\n",
    "           reg_all = 0.02,\n",
    "           n_epochs = 100)\n",
    "    model.fit(train_data)\n",
    "    rmse_value = accuracy.rmse(predictions)\n",
    "    rmse[i-1] = rmse_value\n",
    "    \n",
    "plt.plot(rmse)"
   ]
  },
  {
   "cell_type": "code",
   "execution_count": 71,
   "metadata": {},
   "outputs": [],
   "source": [
    "#실제 평점과의 비교 시각화 하기\n",
    "#타겟 유저 정보를 테스트 데이터로 생성하기\n",
    "test_data = []\n",
    "for index,row in movie_data.iterrows():\n",
    "    movie_id = row[\"movie_id\"]\n",
    "    if movie_id in target_user_movie_rating_dict:\n",
    "        rating = target_user_movie_rating_dict[movie_id]\n",
    "        test_data.append((target_user_id,movie_id,rating))\n",
    "\n",
    "#타겟 유저의 평점 저수 예측\n",
    "target_user_predictions = model.test(test_data)\n",
    "\n"
   ]
  },
  {
   "cell_type": "code",
   "execution_count": 82,
   "metadata": {},
   "outputs": [
    {
     "data": {
      "text/plain": [
       "{260: 4.095576752010038,\n",
       " 480: 3.479303501606446,\n",
       " 1036: 3.8593318933881133,\n",
       " 1097: 4.437255883356482,\n",
       " 1196: 3.8235792932692516,\n",
       " 1198: 4.359412030860897,\n",
       " 1201: 4.282441570967817,\n",
       " 1210: 3.3914710502131333,\n",
       " 1214: 4.161332040422022,\n",
       " 1240: 3.9446923830925615,\n",
       " 1387: 4.532944318480701,\n",
       " 1954: 4.339921768160131,\n",
       " 2028: 4.4812413980338395,\n",
       " 2366: 4.2234069529298095,\n",
       " 2692: 4.346851853840689,\n",
       " 2947: 4.2261490314803485,\n",
       " 2951: 4.20560579113494,\n",
       " 3418: 4.472140491974524,\n",
       " 3468: 4.890349669709207,\n",
       " 3527: 3.2730122232840486,\n",
       " 3702: 3.7146141289814185}"
      ]
     },
     "execution_count": 82,
     "metadata": {},
     "output_type": "execute_result"
    }
   ],
   "source": [
    "#예측된 점수 중, 타겟 유저의 영화별 점수를 predict_dict에 저장하기\n",
    "def get_user_predicted_ratings(predictions,user_id, user_history):\n",
    "    target_user_movie_predict_dict = {}\n",
    "    for uid,mid,rating,predicted_rating,_ in predictions:\n",
    "        if user_id == uid:\n",
    "            if mid in user_history:\n",
    "                target_user_movie_predict_dict[mid] = predicted_rating\n",
    "    return target_user_movie_predict_dict\n",
    "            \n",
    "target_user_movie_predict_dict = get_user_predicted_ratings(predictions = target_user_predictions,\n",
    "                                                   user_id = target_user_id,\n",
    "                                                   user_history = target_user_movie_rating_dict)\n",
    "target_user_movie_predict_dict"
   ]
  },
  {
   "cell_type": "code",
   "execution_count": 84,
   "metadata": {},
   "outputs": [
    {
     "name": "stdout",
     "output_type": "stream",
     "text": [
      "movie 1 : Star Wars: Episode IV - A New Hope (1977) - 5 / 4.1\n",
      "movie 2 : Jurassic Park (1993) - 4 / 3.48\n",
      "movie 3 : Die Hard (1988) - 4 / 3.86\n",
      "movie 4 : E.T. the Extra-Terrestrial (1982) - 4 / 4.44\n",
      "movie 5 : Star Wars: Episode V - The Empire Strikes Back (1980) - 2 / 3.82\n",
      "movie 6 : Raiders of the Lost Ark (1981) - 5 / 4.36\n",
      "movie 7 : Good, The Bad and The Ugly, The (1966) - 5 / 4.28\n",
      "movie 8 : Star Wars: Episode VI - Return of the Jedi (1983) - 3 / 3.39\n",
      "movie 9 : Alien (1979) - 4 / 4.16\n",
      "movie 10 : Terminator, The (1984) - 5 / 3.94\n",
      "movie 11 : Jaws (1975) - 5 / 4.53\n",
      "movie 12 : Rocky (1976) - 5 / 4.34\n",
      "movie 13 : Saving Private Ryan (1998) - 5 / 4.48\n",
      "movie 14 : King Kong (1933) - 4 / 4.22\n",
      "movie 15 : Run Lola Run (Lola rennt) (1998) - 5 / 4.35\n",
      "movie 16 : Goldfinger (1964) - 5 / 4.23\n",
      "movie 17 : Fistful of Dollars, A (1964) - 4 / 4.21\n",
      "movie 18 : Thelma & Louise (1991) - 4 / 4.47\n",
      "movie 19 : Hustler, The (1961) - 5 / 4.89\n",
      "movie 20 : Predator (1987) - 1 / 3.27\n",
      "movie 21 : Mad Max (1979) - 4 / 3.71\n"
     ]
    }
   ],
   "source": [
    "#예측점수와 실제 점수 매핑하기\n",
    "origin_rating_list = []\n",
    "predicted_rating_list = []\n",
    "movie_title_list = []\n",
    "idx = 0\n",
    "\n",
    "for movie_id, predicted_rating in target_user_movie_predict_dict.items():\n",
    "    idx = idx + 1\n",
    "    predicted_rating = round(predicted_rating,2)\n",
    "    origin_rating = target_user_movie_rating_dict[movie_id]\n",
    "    movie_title = movie_dict[movie_id]\n",
    "    print(\"movie\",str(idx),\":\",movie_title,\"-\",origin_rating,\"/\",predicted_rating)\n",
    "    origin_rating_list.append(origin_rating)\n",
    "    predicted_rating_list.append(predicted_rating)\n",
    "    movie_title_list.append(str(idx))"
   ]
  },
  {
   "cell_type": "code",
   "execution_count": 85,
   "metadata": {},
   "outputs": [
    {
     "data": {
      "image/png": "[encoded data removed]",
      "text/plain": [
       "<Figure size 720x432 with 1 Axes>"
      ]
     },
     "metadata": {
      "needs_background": "light"
     },
     "output_type": "display_data"
    }
   ],
   "source": [
    "#실제평점과 비교 시각화하기\n",
    "origin = origin_rating_list\n",
    "predicted = predicted_rating_list\n",
    "\n",
    "#영화의 갯수만큼 막대그래프의 index갯수 생성\n",
    "plt.rcParams[\"figure.figsize\"] = (10,6)\n",
    "index = np.arange(len(movie_title_list))\n",
    "bar_width = 0.2\n",
    "\n",
    "#실제 점수와 예측점수를 bar graph로 그리기\n",
    "rects1 = plt.bar(index,origin, bar_width, color= \"orange\",label=\"Origin\")\n",
    "rects2 = plt.bar(index+bar_width, predicted, bar_width, color = \"green\", label=\"Predicted\")\n",
    "plt.xticks(index,movie_title_list)\n",
    "plt.legend()\n",
    "plt.show()"
   ]
  },
  {
   "cell_type": "code",
   "execution_count": null,
   "metadata": {},
   "outputs": [],
   "source": []
  }
 ],
 "metadata": {
  "kernelspec": {
   "display_name": "Python 3",
   "language": "python",
   "name": "python3"
  },
  "language_info": {
   "codemirror_mode": {
    "name": "ipython",
    "version": 3
   },
   "file_extension": ".py",
   "mimetype": "text/x-python",
   "name": "python",
   "nbconvert_exporter": "python",
   "pygments_lexer": "ipython3",
   "version": "3.7.6"
  }
 },
 "nbformat": 4,
 "nbformat_minor": 4
}
